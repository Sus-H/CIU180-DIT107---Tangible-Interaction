{
 "cells": [
  {
   "cell_type": "code",
   "execution_count": 10,
   "metadata": {},
   "outputs": [
    {
     "ename": "AttributeError",
     "evalue": "module 'fluidsynth' has no attribute 'Synth'",
     "output_type": "error",
     "traceback": [
      "\u001b[1;31m---------------------------------------------------------------------------\u001b[0m",
      "\u001b[1;31mAttributeError\u001b[0m                            Traceback (most recent call last)",
      "Cell \u001b[1;32mIn[10], line 4\u001b[0m\n\u001b[0;32m      1\u001b[0m \u001b[38;5;28;01mimport\u001b[39;00m \u001b[38;5;21;01mtime\u001b[39;00m\n\u001b[0;32m      2\u001b[0m \u001b[38;5;28;01mimport\u001b[39;00m \u001b[38;5;21;01mfluidsynth\u001b[39;00m\n\u001b[1;32m----> 4\u001b[0m fs \u001b[38;5;241m=\u001b[39m \u001b[43mfluidsynth\u001b[49m\u001b[38;5;241;43m.\u001b[39;49m\u001b[43mSynth\u001b[49m()\n\u001b[0;32m      5\u001b[0m fs\u001b[38;5;241m.\u001b[39mstart()\n\u001b[0;32m      6\u001b[0m \u001b[38;5;66;03m## Your installation of FluidSynth may require a different driver.\u001b[39;00m\n\u001b[0;32m      7\u001b[0m \u001b[38;5;66;03m## Use something like:\u001b[39;00m\n",
      "\u001b[1;31mAttributeError\u001b[0m: module 'fluidsynth' has no attribute 'Synth'"
     ]
    }
   ],
   "source": [
    "import time\n",
    "import fluidsynth\n",
    "\n",
    "fs = fluidsynth.Synth()\n",
    "fs.start()\n",
    "## Your installation of FluidSynth may require a different driver.\n",
    "## Use something like:\n",
    "fs.start(driver=\"pulseaudio\")\n",
    "\n",
    "sfid = fs.sfload(\"example.sf2\")\n",
    "fs.program_select(0, sfid, 0, 0)\n",
    "\n",
    "fs.noteon(0, 60, 30)\n",
    "fs.noteon(0, 67, 30)\n",
    "fs.noteon(0, 76, 30)\n",
    "\n",
    "time.sleep(1.0)\n",
    "\n",
    "fs.noteoff(0, 60)\n",
    "fs.noteoff(0, 67)\n",
    "fs.noteoff(0, 76)\n",
    "\n",
    "time.sleep(1.0)\n",
    "\n",
    "fs.delete()"
   ]
  },
  {
   "cell_type": "markdown",
   "metadata": {},
   "source": [
    "For Windows, you have to:\n",
    "\n",
    "Build it: https://github.com/FluidSynth/fluidsynth/wiki/BuildingWithCMake#building-with-msys2-on-windows (cause it is installed on os, not on python)\n",
    "\n",
    "Then in your IDE terminal (let's say PyCharm) type: pip install --upgrade pyfluidsynth\n",
    "\n",
    "You can also install pretty_midi for later usage (pip install pretty_midi)"
   ]
  },
  {
   "cell_type": "code",
   "execution_count": 18,
   "metadata": {},
   "outputs": [],
   "source": [
    "import winsound\n",
    "# Play Windows exit sound.\n",
    "# winsound.PlaySound(\"SystemExit\", winsound.SND_ALIAS)\n",
    "\n",
    "# Probably play Windows default sound, if any is registered (because\n",
    "# \"*\" probably isn't the registered name of any sound).\n",
    "# winsound.PlaySound(\"*\", winsound.SND_ALIAS)\n",
    "\n",
    "winsound.Beep(261, 5*1000)"
   ]
  },
  {
   "cell_type": "code",
   "execution_count": 19,
   "metadata": {},
   "outputs": [
    {
     "name": "stdout",
     "output_type": "stream",
     "text": [
      "pygame 2.5.2 (SDL 2.28.3, Python 3.10.13)\n",
      "Hello from the pygame community. https://www.pygame.org/contribute.html\n"
     ]
    },
    {
     "data": {
      "text/plain": [
       "<pygame.mixer.Channel at 0x26d00bc1950>"
      ]
     },
     "execution_count": 19,
     "metadata": {},
     "output_type": "execute_result"
    }
   ],
   "source": [
    "import pygame\n",
    "\n",
    "# Initialize Pygame\n",
    "pygame.mixer.init()\n",
    "\n",
    "# Load the sound file\n",
    "sound_file = \"H:\\programming_projects\\CIU180-DIT107---Tangible-Interaction\\soundfiles\\sneeze.wav\"  # Replace with the path to your sound file\n",
    "sound = pygame.mixer.Sound(sound_file)\n",
    "\n",
    "# Play the sound\n",
    "sound.play()"
   ]
  },
  {
   "cell_type": "code",
   "execution_count": 22,
   "metadata": {},
   "outputs": [
    {
     "name": "stdout",
     "output_type": "stream",
     "text": [
      "Playing sound...\n"
     ]
    }
   ],
   "source": [
    "import pygame\n",
    "import struct\n",
    "from math import sin, pi\n",
    "\n",
    "# Initialize Pygame\n",
    "pygame.mixer.init()\n",
    "\n",
    "# Function to generate and play piano sound\n",
    "def generate_piano_sound(frequency, duration, volume):\n",
    "    sample_rate = 44100  # Sample rate (samples per second)\n",
    "\n",
    "    # Calculate the number of samples\n",
    "    num_samples = int(sample_rate * duration)\n",
    "\n",
    "    # Generate the sound samples and scale them to fit in 16-bit signed integer range\n",
    "    sound_samples = [int(volume * 32767 * sin(2 * pi * frequency * t / sample_rate)) for t in range(num_samples)]\n",
    "\n",
    "    # Convert the samples to binary data\n",
    "    sound_data = struct.pack('<' + 'h' * len(sound_samples), *sound_samples)\n",
    "\n",
    "    # Create a Pygame sound object from the binary data\n",
    "    sound = pygame.mixer.Sound(sound_data)\n",
    "\n",
    "    # Play the sound\n",
    "    print(\"Playing sound...\")\n",
    "    sound.play()\n",
    "\n",
    "# Test with a simple sine wave (440 Hz, 1 second duration, volume 0.5)\n",
    "generate_piano_sound(261.63, 1, 0.1)\n"
   ]
  }
 ],
 "metadata": {
  "kernelspec": {
   "display_name": "chalmers",
   "language": "python",
   "name": "python3"
  },
  "language_info": {
   "codemirror_mode": {
    "name": "ipython",
    "version": 3
   },
   "file_extension": ".py",
   "mimetype": "text/x-python",
   "name": "python",
   "nbconvert_exporter": "python",
   "pygments_lexer": "ipython3",
   "version": "3.10.13"
  }
 },
 "nbformat": 4,
 "nbformat_minor": 2
}
